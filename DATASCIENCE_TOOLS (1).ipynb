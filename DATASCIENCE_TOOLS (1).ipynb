{
  "nbformat": 4,
  "nbformat_minor": 0,
  "metadata": {
    "colab": {
      "provenance": []
    },
    "kernelspec": {
      "name": "python3",
      "display_name": "Python 3"
    },
    "language_info": {
      "name": "python"
    }
  },
  "cells": [
    {
      "cell_type": "markdown",
      "source": [
        "# TOOLS FOR DATA SCIENCE JUPYTER NOTEBOOK"
      ],
      "metadata": {
        "id": "dH1JwJHxHXeE"
      }
    },
    {
      "cell_type": "markdown",
      "source": [],
      "metadata": {
        "id": "Pl7L_x3xtYUl"
      }
    },
    {
      "cell_type": "markdown",
      "source": [],
      "metadata": {
        "id": "9u-A_l8gtYaZ"
      }
    },
    {
      "cell_type": "markdown",
      "source": [
        "###There are several tools that facilitate various stages of the data science process, starting from data collection and preprocessing to performing statistical analysis, data visualization, and finally to modeling."
      ],
      "metadata": {
        "id": "HPLp14uKJ1Mx"
      }
    },
    {
      "cell_type": "markdown",
      "source": [],
      "metadata": {
        "id": "MloVrzTiu79e"
      }
    },
    {
      "cell_type": "markdown",
      "source": [
        "Some commonly used languages for data science are as follows:\n",
        "\n",
        "**Python:** Python is the most popular language for data science due to its simplicity, versatility, and rich ecosystem of libraries such as NumPy, Pandas, SciPy, Matplotlib, and scikit-learn.\n",
        "\n",
        "**R:** R is another popular language for data analysis and statistical computing. It has a strong community of users and many specialized packages for data visualization, statistical modeling, and machine learning.\n",
        "\n",
        "**SQL:** SQL (Structured Query Language) is essential for working with relational databases, which are often used to store and manage large datasets.\n",
        "\n",
        "**Julia:** Julia is a high-level, high-performance language for technical computing. It's gaining popularity in data science for its speed and ease of use, especially for tasks involving numerical computing and data analysis.\n",
        "\n",
        "**Scala:** Scala is often used in conjunction with Apache Spark, a popular framework for big data processing. It combines functional programming features with object-oriented programming and interoperates seamlessly with Java."
      ],
      "metadata": {
        "id": "2DdoDQXatBQd"
      }
    },
    {
      "cell_type": "markdown",
      "source": [
        "Some most commonly used python libraries for data science are as follows:\n",
        "\n",
        "**NumPy:** NumPy is the fundamental package for numerical computing in Python. It provides support for multidimensional arrays, along with a collection of mathematical functions to operate on these arrays.\n",
        "\n",
        "**Pandas:** Pandas is a powerful library for data manipulation and analysis. It offers data structures like DataFrame and Series, along with tools for reading and writing data in various formats, handling missing data, and performing data aggregation and transformation.\n",
        "\n",
        "**Matplotlib:** Matplotlib is a plotting library for creating static, animated, and interactive visualizations in Python. It provides a wide variety of plotting functions to visualize data in different formats, such as line plots, bar charts, histograms, scatter plots, and more.\n",
        "\n",
        "**scikit-learn:** scikit-learn is a machine learning library that provides simple and efficient tools for data mining and data analysis. It includes a wide range of algorithms for tasks like classification, regression, clustering, dimensionality reduction, and model selection.\n",
        "\n",
        "**TensorFlow:** TensorFlow is an open-source machine learning framework developed by Google. It's widely used for building and training deep learning models, especially for tasks like image recognition, natural language processing, and reinforcement learning.\n",
        "\n",
        "**PyTorch:** PyTorch is another popular open-source machine learning library, developed by Facebook's AI Research lab. It's known for its dynamic computational graph and ease of use, especially for researchers and practitioners working on deep learning projects.\n",
        "\n",
        "**Keras:** Keras is a high-level neural networks API, written in Python and capable of running on top of TensorFlow, Theano, or Microsoft Cognitive Toolkit (CNTK). It's designed for fast experimentation with deep neural networks and provides a user-friendly interface for building and training neural networks."
      ],
      "metadata": {
        "id": "xyGvfY5wu9g1"
      }
    },
    {
      "cell_type": "markdown",
      "source": [
        "Commonly used data science tools are:\n",
        "\n",
        "**Jupyter Notebook / JupyterLab:** Interactive computing environments that allow users to write and execute code in Python, R, Julia, and other languages, while integrating code, visualizations, and explanatory text in a single document.\n",
        "\n",
        "**Anaconda:** A distribution of Python and R programming languages for scientific computing, including over 1,500 data science packages and management tools like conda for package and environment management.\n",
        "\n",
        "**RStudio:** An integrated development environment (IDE) for R, providing tools for code editing, debugging, package management, and visualization.\n",
        "\n",
        "**Apache Hadoop:** An open-source framework for distributed storage and processing of large datasets across clusters of computers, using a programming model called MapReduce.\n",
        "\n",
        "**Apache Spark:** A unified analytics engine for large-scale data processing, providing APIs for batch processing, streaming data, machine learning, and interactive SQL queries, with support for multiple programming languages such as Scala, Java, Python, and R.\n",
        "\n",
        "**Tableau:** A data visualization tool that allows users to create interactive and shareable dashboards, reports, and data visualizations without requiring programming knowledge.\n",
        "\n",
        "**Power BI:** A business analytics service by Microsoft that provides interactive visualizations and business intelligence capabilities, allowing users to connect to various data sources, create reports and dashboards, and share insights across the organization."
      ],
      "metadata": {
        "id": "cg3-nzewv4Fb"
      }
    },
    {
      "cell_type": "markdown",
      "source": [
        "Arithmetic operations supported by python are:\n",
        "\n",
        "1. Addition <br>\n",
        "a = 10, b=5 <br>\n",
        "sum = a+b (evaluates to 15)\n",
        "\n",
        "2. Subtraction <br>\n",
        "a = 10, b=5 <br>\n",
        "diff = a-b (evaluates to 5)\n",
        "\n",
        "3. Multiplication <br>\n",
        "a = 10, b=5 <br>\n",
        "prod = a*b (evaluates to 50)\n",
        "\n",
        "4. Division <br>\n",
        "a = 10, b=5 <br>\n",
        "quotient = a/b (evaluates to 2)\n",
        "\n",
        "5. Integer Division <br>\n",
        "a = 10, b=4 <br>\n",
        "quotient = a//b (evaluates to 2)\n",
        "\n",
        "6. Modulus <br>\n",
        "a = 10, b=3 <br>\n",
        "mod = a%b (evaluates to 1)\n",
        "\n",
        "7. Exponentiation <br>\n",
        "a = 10, b=5 <br>\n",
        "exp = a**b (evaluates to 100000)\n",
        "\n"
      ],
      "metadata": {
        "id": "VaD6IYfcxKVE"
      }
    },
    {
      "cell_type": "code",
      "source": [
        "# Code cell to show addition and multiplication of two numbers\n",
        "\n",
        "num1 = 10\n",
        "num2 = 5\n",
        "\n",
        "# Addition\n",
        "print(\"Sum of num1 and num2: \", num1+num2)\n",
        "\n",
        "# Multiplication\n",
        "print(\"Product of num1 and num2: \", num1*num2)"
      ],
      "metadata": {
        "colab": {
          "base_uri": "https://localhost:8080/"
        },
        "id": "_755bM1GzVPf",
        "outputId": "bb7416af-7ce2-4fa9-ab25-af37837b7c4a"
      },
      "execution_count": null,
      "outputs": [
        {
          "output_type": "stream",
          "name": "stdout",
          "text": [
            "Sum of num1 and num2:  15\n",
            "Product of num1 and num2:  50\n"
          ]
        }
      ]
    },
    {
      "cell_type": "code",
      "source": [
        "# Code cell to convert hours to minutes\n",
        "\n",
        "hours = int(input(\"Enter hours: \"))\n",
        "\n",
        "minutes = hours * 60\n",
        "print(hours, \"hours converted to minutes are: \", minutes)"
      ],
      "metadata": {
        "id": "zl-Fsrld0MIE",
        "colab": {
          "base_uri": "https://localhost:8080/"
        },
        "outputId": "cbc13b9c-b00b-4c6e-aa96-1112d0ae7ce4"
      },
      "execution_count": null,
      "outputs": [
        {
          "output_type": "stream",
          "name": "stdout",
          "text": [
            "Enter hours: 5\n",
            "5 hours converted to minutes are:  300\n"
          ]
        }
      ]
    },
    {
      "cell_type": "markdown",
      "source": [
        "Objectives of data science are:\n",
        "\n",
        "**Insight Discovery:** Data science aims to uncover meaningful patterns, trends, and insights hidden within large and complex datasets, providing valuable information for decision-making.\n",
        "\n",
        "**Prediction and Forecasting:** By analyzing historical data, data science enables the development of predictive models to forecast future events, trends, or outcomes. This is useful in fields such as finance, weather forecasting, and healthcare.\n",
        "\n",
        "**Optimization:** Data science helps optimize processes, systems, and strategies by analyzing data to identify inefficiencies, bottlenecks, and areas for improvement. Optimization can lead to cost savings, increased efficiency, and better resource allocation.\n",
        "\n",
        "**Personalization and Recommendation:** Data science powers personalized recommendations and targeted marketing strategies by analyzing user behavior and preferences to deliver tailored products, services, and content.\n",
        "\n",
        "**Risk Management:** Data science plays a crucial role in risk assessment and management by analyzing historical data and predicting potential risks, allowing businesses and organizations to mitigate and manage risks effectively.\n",
        "\n",
        "**Customer Segmentation:** By segmenting customers based on their characteristics, behavior, and preferences, data science helps businesses tailor marketing strategies, product offerings, and customer experiences to different segments, leading to increased customer satisfaction and loyalty.\n",
        "\n",
        "**Automation:** Data science enables automation of repetitive tasks, decision-making processes, and workflows through the development of algorithms, machine learning models, and artificial intelligence systems, reducing manual effort and improving efficiency.\n",
        "\n",
        "**Anomaly Detection:** Data science helps detect unusual or anomalous behavior within datasets, which may indicate fraud, errors, or security threats. Anomaly detection is essential in various domains, including cybersecurity, fraud detection, and fault diagnosis.\n",
        "\n",
        "**Sentiment Analysis:** Data science techniques are used to analyze text data from social media, customer reviews, and other sources to understand public sentiment, opinions, and attitudes towards products, brands, or events.\n",
        "\n",
        "**Decision Support:** Data science provides decision-makers with actionable insights, data-driven recommendations, and visualizations to support strategic, tactical, and operational decision-making processes across various domains and industries."
      ],
      "metadata": {
        "id": "uYm8e3gG3HKW"
      }
    },
    {
      "cell_type": "markdown",
      "source": [
        "## This jupyter notebook has been authored by Mrs. Bhavna Mittal"
      ],
      "metadata": {
        "id": "b1UTwX413nKr"
      }
    }
  ]
}